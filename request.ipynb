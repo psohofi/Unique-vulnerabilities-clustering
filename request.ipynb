{
 "cells": [
  {
   "cell_type": "code",
   "execution_count": 6,
   "metadata": {},
   "outputs": [
    {
     "name": "stdout",
     "output_type": "stream",
     "text": [
      "Response saved to clustering_results.json\n"
     ]
    }
   ],
   "source": [
    "import requests\n",
    "import json\n",
    "\n",
    "api_url = \"http://127.0.0.1:5000/process_sql\"\n",
    "payload = {\n",
    "    \"file_path\": \"vuln_data.sql\"  \n",
    "}\n",
    "\n",
    "try:\n",
    "    response = requests.post(api_url, json=payload)\n",
    "    if response.status_code == 200:\n",
    "        data = response.json()\n",
    "        sorted_data = sorted(data, key=lambda x: x['tag'])\n",
    "        output_file = \"clustering_results.json\"\n",
    "        with open(output_file, \"w\", encoding=\"utf-8\") as f:\n",
    "            json.dump(sorted_data, f, indent=4)\n",
    "        print(f\"Response saved to {output_file}\")\n",
    "    else:\n",
    "        print(f\"Error: {response.status_code}\")\n",
    "        print(response.json())\n",
    "\n",
    "except Exception as e:\n",
    "    print(f\"An error occurred: {e}\")\n"
   ]
  },
  {
   "cell_type": "code",
   "execution_count": null,
   "metadata": {},
   "outputs": [],
   "source": []
  }
 ],
 "metadata": {
  "kernelspec": {
   "display_name": "Python 3",
   "language": "python",
   "name": "python3"
  },
  "language_info": {
   "codemirror_mode": {
    "name": "ipython",
    "version": 3
   },
   "file_extension": ".py",
   "mimetype": "text/x-python",
   "name": "python",
   "nbconvert_exporter": "python",
   "pygments_lexer": "ipython3",
   "version": "3.10.9"
  }
 },
 "nbformat": 4,
 "nbformat_minor": 2
}
